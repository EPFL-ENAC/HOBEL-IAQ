{
 "cells": [
  {
   "cell_type": "code",
   "execution_count": 46,
   "id": "d0ba47d6",
   "metadata": {},
   "outputs": [],
   "source": [
    "import pandas as pd\n",
    "import numpy as np\n",
    "import seaborn as sns\n",
    "import matplotlib.pyplot as plt"
   ]
  },
  {
   "cell_type": "code",
   "execution_count": 47,
   "id": "dc5cae29",
   "metadata": {},
   "outputs": [],
   "source": [
    "path_global = '/Users/bdu/Library/CloudStorage/OneDrive-SharedLibraries-epfl.ch/ENAC-IT - Pilot_iAQ_Shared/Data/'"
   ]
  },
  {
   "cell_type": "markdown",
   "id": "4dae527f",
   "metadata": {},
   "source": [
    "# meta data"
   ]
  },
  {
   "cell_type": "code",
   "execution_count": 118,
   "id": "8373360a",
   "metadata": {},
   "outputs": [
    {
     "data": {
      "text/html": [
       "<div>\n",
       "<style scoped>\n",
       "    .dataframe tbody tr th:only-of-type {\n",
       "        vertical-align: middle;\n",
       "    }\n",
       "\n",
       "    .dataframe tbody tr th {\n",
       "        vertical-align: top;\n",
       "    }\n",
       "\n",
       "    .dataframe thead th {\n",
       "        text-align: right;\n",
       "    }\n",
       "</style>\n",
       "<table border=\"1\" class=\"dataframe\">\n",
       "  <thead>\n",
       "    <tr style=\"text-align: right;\">\n",
       "      <th></th>\n",
       "      <th>Ref</th>\n",
       "      <th>Building identifier</th>\n",
       "      <th>Room identifier</th>\n",
       "      <th>Period identifier</th>\n",
       "    </tr>\n",
       "  </thead>\n",
       "  <tbody>\n",
       "    <tr>\n",
       "      <th>0</th>\n",
       "      <td>11010104</td>\n",
       "      <td>01</td>\n",
       "      <td>EXT</td>\n",
       "      <td>A21W1</td>\n",
       "    </tr>\n",
       "    <tr>\n",
       "      <th>197</th>\n",
       "      <td>13010304</td>\n",
       "      <td>01</td>\n",
       "      <td>NHA</td>\n",
       "      <td>E22W1</td>\n",
       "    </tr>\n",
       "    <tr>\n",
       "      <th>99</th>\n",
       "      <td>12010304</td>\n",
       "      <td>01</td>\n",
       "      <td>NHA</td>\n",
       "      <td>H22W1</td>\n",
       "    </tr>\n",
       "    <tr>\n",
       "      <th>98</th>\n",
       "      <td>12010204</td>\n",
       "      <td>01</td>\n",
       "      <td>NBA</td>\n",
       "      <td>H22W1</td>\n",
       "    </tr>\n",
       "    <tr>\n",
       "      <th>97</th>\n",
       "      <td>12010104</td>\n",
       "      <td>01</td>\n",
       "      <td>EXT</td>\n",
       "      <td>H22W1</td>\n",
       "    </tr>\n",
       "    <tr>\n",
       "      <th>...</th>\n",
       "      <td>...</td>\n",
       "      <td>...</td>\n",
       "      <td>...</td>\n",
       "      <td>...</td>\n",
       "    </tr>\n",
       "    <tr>\n",
       "      <th>96</th>\n",
       "      <td>11240304</td>\n",
       "      <td>24</td>\n",
       "      <td>NHA</td>\n",
       "      <td>A21W1</td>\n",
       "    </tr>\n",
       "    <tr>\n",
       "      <th>95</th>\n",
       "      <td>11240204</td>\n",
       "      <td>24</td>\n",
       "      <td>NBA</td>\n",
       "      <td>A21W1</td>\n",
       "    </tr>\n",
       "    <tr>\n",
       "      <th>94</th>\n",
       "      <td>11240104</td>\n",
       "      <td>24</td>\n",
       "      <td>EXT</td>\n",
       "      <td>A21W1</td>\n",
       "    </tr>\n",
       "    <tr>\n",
       "      <th>290</th>\n",
       "      <td>13240304</td>\n",
       "      <td>24</td>\n",
       "      <td>NHA</td>\n",
       "      <td>E22W1</td>\n",
       "    </tr>\n",
       "    <tr>\n",
       "      <th>386</th>\n",
       "      <td>14240304</td>\n",
       "      <td>24</td>\n",
       "      <td>NHA</td>\n",
       "      <td>H23W1</td>\n",
       "    </tr>\n",
       "  </tbody>\n",
       "</table>\n",
       "<p>387 rows × 4 columns</p>\n",
       "</div>"
      ],
      "text/plain": [
       "          Ref Building identifier Room identifier Period identifier\n",
       "0    11010104                  01             EXT             A21W1\n",
       "197  13010304                  01             NHA             E22W1\n",
       "99   12010304                  01             NHA             H22W1\n",
       "98   12010204                  01             NBA             H22W1\n",
       "97   12010104                  01             EXT             H22W1\n",
       "..        ...                 ...             ...               ...\n",
       "96   11240304                  24             NHA             A21W1\n",
       "95   11240204                  24             NBA             A21W1\n",
       "94   11240104                  24             EXT             A21W1\n",
       "290  13240304                  24             NHA             E22W1\n",
       "386  14240304                  24             NHA             H23W1\n",
       "\n",
       "[387 rows x 4 columns]"
      ]
     },
     "execution_count": 118,
     "metadata": {},
     "output_type": "execute_result"
    }
   ],
   "source": [
    "df_meta = pd.read_excel(path_global+'Raw/0001_scholair/generic/240412_SCOLAIR_donnees_batiments.xlsx')[['Ref','Campagne_str','Localite_str','Point_mesure','SCOLAIR_Plus','Ventilation','Context','Built_year','Mes_g_d_pose','Mes_g_d_retr']]\n",
    "df_meta['Ref'] = df_meta['Ref'].astype(str)\n",
    "\n",
    "df_meta['SCOLAIR_Plus'] = df_meta['SCOLAIR_Plus'].str.replace('SCO','W1')\n",
    "df_meta['SCOLAIR_Plus'] = df_meta['SCOLAIR_Plus'].str.replace('SP1','W1')\n",
    "df_meta['SCOLAIR_Plus'] = df_meta['SCOLAIR_Plus'].str.replace('SP2','W2')\n",
    "df_meta['SCOLAIR_Plus'] = df_meta['SCOLAIR_Plus'].str.replace('SP3','W3')\n",
    "df_meta['Period identifier'] = df_meta['Campagne_str']+df_meta['SCOLAIR_Plus']\n",
    "\n",
    "df_meta['Loc_number'] = df_meta['Ref'].apply(lambda x: x[2:4])\n",
    "df_meta_subset = df_meta[['Ref','Loc_number','Point_mesure','Period identifier']].drop_duplicates().sort_values(by='Loc_number')\n",
    "df_meta_subset.rename(columns = {'Loc_number':'Building identifier','Point_mesure':'Room identifier'},inplace=True)\n",
    "df_meta_subset"
   ]
  },
  {
   "cell_type": "markdown",
   "id": "543ba4da",
   "metadata": {},
   "source": [
    "# COVA data"
   ]
  },
  {
   "cell_type": "code",
   "execution_count": 128,
   "id": "5b71bcd5",
   "metadata": {},
   "outputs": [],
   "source": [
    "import glob\n",
    "coa = pd.DataFrame() #storing cleaned data\n",
    "path = path_global+'Raw/0001_scholair/COA_cova/' #where data from this sensor is stored\n",
    "all_files = glob.glob(path + '*.csv')\n",
    "for file in all_files:\n",
    "    identifier = file.split('_')[6].split('.')[0] #extract identifier, eg: '../data/raw/COA_cova/data_COA_11050204.csv'\n",
    "    df = pd.read_csv(file, index_col=0)\n",
    "    df.columns = ['COA_CAS','COA_Name_list','COA_Name_file','COA_R.time','ppb','ug/m3','COA_Probability'] #remove identifer from column names\n",
    "    df = df[['COA_Name_list','ppb','ug/m3']].set_index(['COA_Name_list'])\n",
    "    df = df.transpose()\n",
    "    df['Ref'] = identifier\n",
    "    df['Unit'] = df.index\n",
    "    df = df.set_index('Ref')\n",
    "    coa = pd.concat([coa, df])\n",
    "    coa = coa.sort_values(by='Ref')"
   ]
  },
  {
   "cell_type": "code",
   "execution_count": 129,
   "id": "e46c4474",
   "metadata": {},
   "outputs": [],
   "source": [
    "coa = coa.rename_axis(None, axis=1).reset_index()\n",
    "coa.rename(columns = {'Total(As Toluene)':'TVOC'},inplace=True)\n",
    "coa = coa.merge(df_meta_subset, how='left',on='Ref')\n",
    "coa = coa.drop('Ref',axis=1)\n",
    "coa['equipment'] = 'kit-cova'\n",
    "coa.to_csv('0001_scholair_cova.csv')"
   ]
  },
  {
   "cell_type": "markdown",
   "id": "56ae5fff",
   "metadata": {},
   "source": [
    "# Tenax data"
   ]
  },
  {
   "cell_type": "code",
   "execution_count": 131,
   "id": "61db6216",
   "metadata": {},
   "outputs": [],
   "source": [
    "import glob\n",
    "ten = pd.DataFrame()\n",
    "path = path_global+'Raw/0001_scholair/COA_ten/'\n",
    "all_files = glob.glob(path + '*.xlsx')\n",
    "for file in all_files:\n",
    "    df = pd.read_excel(file, index_col=0,converters={'Ref':str})\n",
    "    df = df[df['Ref']!='blanc']\n",
    "    df = df.dropna(subset=['Ref'])\n",
    "    ten = pd.concat([ten, df])"
   ]
  },
  {
   "cell_type": "code",
   "execution_count": 132,
   "id": "017d02d4",
   "metadata": {},
   "outputs": [],
   "source": [
    "ten['equipment'] = 'Tenax'\n",
    "ten['unit'] = 'ug/m3'\n",
    "ten = ten.rename(columns={'COVtot':'TVOC'})\n",
    "ten = ten.merge(df_meta_subset, how='left',on='Ref')\n",
    "ten = ten.drop(['N_unique','Site','Date','Composes_doses','Ref'],axis=1) #drop irrelevant columns\n",
    "ten.to_csv('0001_scholair_tenax.csv') #I still can't edit Onedrive locally, so I uploaded the output files using browser"
   ]
  },
  {
   "cell_type": "code",
   "execution_count": null,
   "id": "b5cf2546",
   "metadata": {},
   "outputs": [],
   "source": []
  }
 ],
 "metadata": {
  "kernelspec": {
   "display_name": "Python 3 (ipykernel)",
   "language": "python",
   "name": "python3"
  },
  "language_info": {
   "codemirror_mode": {
    "name": "ipython",
    "version": 3
   },
   "file_extension": ".py",
   "mimetype": "text/x-python",
   "name": "python",
   "nbconvert_exporter": "python",
   "pygments_lexer": "ipython3",
   "version": "3.9.13"
  }
 },
 "nbformat": 4,
 "nbformat_minor": 5
}
